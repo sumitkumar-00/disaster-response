{
 "cells": [
  {
   "cell_type": "markdown",
   "metadata": {},
   "source": [
    "# ML Pipeline Preparation\n",
    "Follow the instructions below to help you create your ML pipeline.\n",
    "### 1. Import libraries and load data from database.\n",
    "- Import Python libraries\n",
    "- Load dataset from database with [`read_sql_table`](https://pandas.pydata.org/pandas-docs/stable/generated/pandas.read_sql_table.html)\n",
    "- Define feature and target variables X and Y"
   ]
  },
  {
   "cell_type": "code",
   "execution_count": 31,
   "metadata": {},
   "outputs": [
    {
     "name": "stderr",
     "output_type": "stream",
     "text": [
      "[nltk_data] Downloading package punkt to /home/sumit/nltk_data...\n",
      "[nltk_data]   Package punkt is already up-to-date!\n",
      "[nltk_data] Downloading package wordnet to /home/sumit/nltk_data...\n",
      "[nltk_data]   Package wordnet is already up-to-date!\n",
      "[nltk_data] Downloading package stopwords to /home/sumit/nltk_data...\n",
      "[nltk_data]   Package stopwords is already up-to-date!\n"
     ]
    }
   ],
   "source": [
    "import pandas as pd\n",
    "\n",
    "import nltk\n",
    "nltk.download(['punkt', 'wordnet', 'stopwords'])\n",
    "\n",
    "import re\n",
    "from sklearn.model_selection import train_test_split, GridSearchCV\n",
    "from sklearn.feature_extraction.text import CountVectorizer, TfidfTransformer\n",
    "from sklearn.ensemble import RandomForestClassifier, AdaBoostClassifier\n",
    "from sklearn.naive_bayes import MultinomialNB\n",
    "from sklearn.multiclass import OneVsRestClassifier\n",
    "from sklearn.neighbors import KNeighborsClassifier\n",
    "from sklearn.multioutput import MultiOutputClassifier\n",
    "from sklearn.metrics import classification_report\n",
    "from sklearn.linear_model import LogisticRegression\n",
    "from sklearn.pipeline import Pipeline\n",
    "from sqlalchemy import create_engine\n",
    "from nltk.tokenize import word_tokenize\n",
    "from nltk.corpus import stopwords\n",
    "from nltk.stem import WordNetLemmatizer"
   ]
  },
  {
   "cell_type": "code",
   "execution_count": 2,
   "metadata": {},
   "outputs": [],
   "source": [
    "# load data from database\n",
    "engine = create_engine('sqlite:///../data/DisasterResponse.db')\n",
    "#engine.table_names()\n",
    "df = pd.read_sql_table('disaster_response',engine)\n",
    "X = df['message']\n",
    "y = df[df.columns[4:]]"
   ]
  },
  {
   "cell_type": "code",
   "execution_count": 3,
   "metadata": {},
   "outputs": [
    {
     "name": "stdout",
     "output_type": "stream",
     "text": [
      "related:19906\n",
      "request:4474\n",
      "offer:118\n",
      "aid_related:10860\n",
      "medical_help:2084\n",
      "medical_products:1313\n",
      "search_and_rescue:724\n",
      "security:471\n",
      "military:860\n",
      "water:1672\n",
      "food:2923\n",
      "shelter:2314\n",
      "clothing:405\n",
      "money:604\n",
      "missing_people:298\n",
      "refugees:875\n",
      "death:1194\n",
      "other_aid:3446\n",
      "infrastructure_related:1705\n",
      "transport:1201\n",
      "buildings:1333\n",
      "electricity:532\n",
      "tools:159\n",
      "hospitals:283\n",
      "shops:120\n",
      "aid_centers:309\n",
      "other_infrastructure:1151\n",
      "weather_related:7297\n",
      "floods:2155\n",
      "storm:2443\n",
      "fire:282\n",
      "earthquake:2455\n",
      "cold:530\n",
      "other_weather:1376\n",
      "direct_report:5075\n"
     ]
    }
   ],
   "source": [
    "for col in y.columns:\n",
    "    print(col+\":\"+ str(y[col].sum()))"
   ]
  },
  {
   "cell_type": "markdown",
   "metadata": {},
   "source": [
    "### 2. Write a tokenization function to process your text data"
   ]
  },
  {
   "cell_type": "code",
   "execution_count": 4,
   "metadata": {},
   "outputs": [],
   "source": [
    "def tokenize(text):\n",
    "    #remove urls\n",
    "    url_regex = 'http[s]?://(?:[a-zA-Z]|[0-9]|[$-_@.&+]|[!*\\(\\),]|(?:%[0-9a-fA-F][0-9a-fA-F]))+'\n",
    "    urls = re.findall(url_regex, text)\n",
    "    \n",
    "    for url in urls:\n",
    "        text = text.replace(url, 'urlplaceholder')\n",
    "    \n",
    "    #Normalize text\n",
    "    text = re.sub(r'[^a-zA-Z]', ' ', text.lower())\n",
    "    \n",
    "    #Tokenize text\n",
    "    words = word_tokenize(text)\n",
    "    \n",
    "    #Get Rid of Stop Words\n",
    "    words = [w for w in words if w not in stopwords.words('english')]\n",
    "    \n",
    "    #lemmatize words \n",
    "    wnl = WordNetLemmatizer()\n",
    "    words = [wnl.lemmatize(w) for w in words]\n",
    "    \n",
    "    #lemmatize words (verbs)\n",
    "    words = [wnl.lemmatize(w, pos='v') for w in words]\n",
    "    \n",
    "    return words"
   ]
  },
  {
   "cell_type": "markdown",
   "metadata": {},
   "source": [
    "### 3. Build a machine learning pipeline\n",
    "This machine pipeline should take in the `message` column as input and output classification results on the other 36 categories in the dataset. You may find the [MultiOutputClassifier](http://scikit-learn.org/stable/modules/generated/sklearn.multioutput.MultiOutputClassifier.html) helpful for predicting multiple target variables."
   ]
  },
  {
   "cell_type": "code",
   "execution_count": 45,
   "metadata": {},
   "outputs": [],
   "source": [
    "pipeline = Pipeline([\n",
    "    ('vectorizer', CountVectorizer(tokenizer=tokenize)),\n",
    "    ('tfidf', TfidfTransformer()),\n",
    "    ('classifier',OneVsRestClassifier(AdaBoostClassifier(random_state=7)))\n",
    "])"
   ]
  },
  {
   "cell_type": "markdown",
   "metadata": {},
   "source": [
    "### 4. Train pipeline\n",
    "- Split data into train and test sets\n",
    "- Train pipeline"
   ]
  },
  {
   "cell_type": "code",
   "execution_count": 47,
   "metadata": {},
   "outputs": [
    {
     "data": {
      "text/plain": [
       "Pipeline(memory=None,\n",
       "         steps=[('vectorizer',\n",
       "                 CountVectorizer(analyzer='word', binary=False,\n",
       "                                 decode_error='strict',\n",
       "                                 dtype=<class 'numpy.int64'>, encoding='utf-8',\n",
       "                                 input='content', lowercase=True, max_df=1.0,\n",
       "                                 max_features=None, min_df=1,\n",
       "                                 ngram_range=(1, 1), preprocessor=None,\n",
       "                                 stop_words=None, strip_accents=None,\n",
       "                                 token_pattern='(?u)\\\\b\\\\w\\\\w+\\\\b',\n",
       "                                 tokenizer=<function tokenize at 0x7f11df05bc10>,\n",
       "                                 vocabulary=None)),\n",
       "                ('tfidf',\n",
       "                 TfidfTransformer(norm='l2', smooth_idf=True,\n",
       "                                  sublinear_tf=False, use_idf=True)),\n",
       "                ('classifier',\n",
       "                 OneVsRestClassifier(estimator=AdaBoostClassifier(algorithm='SAMME.R',\n",
       "                                                                  base_estimator=None,\n",
       "                                                                  learning_rate=1.0,\n",
       "                                                                  n_estimators=50,\n",
       "                                                                  random_state=7),\n",
       "                                     n_jobs=None))],\n",
       "         verbose=False)"
      ]
     },
     "execution_count": 47,
     "metadata": {},
     "output_type": "execute_result"
    }
   ],
   "source": [
    "X_train, X_test, y_train, y_test = train_test_split(X, y, random_state=43, test_size=0.20)\n",
    "\n",
    "pipeline.fit(X_train, y_train)"
   ]
  },
  {
   "cell_type": "markdown",
   "metadata": {},
   "source": [
    "### 5. Test your model\n",
    "Report the f1 score, precision and recall for each output category of the dataset. You can do this by iterating through the columns and calling sklearn's `classification_report` on each."
   ]
  },
  {
   "cell_type": "code",
   "execution_count": 48,
   "metadata": {},
   "outputs": [
    {
     "name": "stdout",
     "output_type": "stream",
     "text": [
      "                        precision    recall  f1-score   support\n",
      "\n",
      "               related       0.80      0.97      0.88      3984\n",
      "               request       0.73      0.51      0.60       895\n",
      "                 offer       0.00      0.00      0.00        24\n",
      "           aid_related       0.75      0.61      0.68      2163\n",
      "          medical_help       0.60      0.25      0.35       398\n",
      "      medical_products       0.66      0.33      0.44       259\n",
      "     search_and_rescue       0.62      0.19      0.29       136\n",
      "              security       0.29      0.05      0.09        98\n",
      "              military       0.63      0.36      0.46       184\n",
      "                 water       0.73      0.66      0.69       322\n",
      "                  food       0.79      0.65      0.71       581\n",
      "               shelter       0.79      0.52      0.63       456\n",
      "              clothing       0.66      0.42      0.51        84\n",
      "                 money       0.54      0.29      0.38       131\n",
      "        missing_people       0.25      0.03      0.06        62\n",
      "              refugees       0.61      0.23      0.33       176\n",
      "                 death       0.65      0.47      0.55       226\n",
      "             other_aid       0.54      0.15      0.24       685\n",
      "infrastructure_related       0.32      0.07      0.11       335\n",
      "             transport       0.65      0.20      0.31       236\n",
      "             buildings       0.62      0.40      0.48       259\n",
      "           electricity       0.58      0.29      0.39       110\n",
      "                 tools       0.20      0.03      0.06        29\n",
      "             hospitals       0.17      0.04      0.06        56\n",
      "                 shops       0.20      0.04      0.07        24\n",
      "           aid_centers       0.28      0.11      0.15        47\n",
      "  other_infrastructure       0.27      0.06      0.10       231\n",
      "       weather_related       0.86      0.67      0.75      1426\n",
      "                floods       0.88      0.58      0.70       429\n",
      "                 storm       0.77      0.50      0.61       466\n",
      "                  fire       0.73      0.15      0.25        54\n",
      "            earthquake       0.88      0.78      0.83       486\n",
      "                  cold       0.62      0.44      0.51        91\n",
      "         other_weather       0.42      0.15      0.22       268\n",
      "         direct_report       0.67      0.40      0.50      1007\n",
      "\n",
      "             micro avg       0.76      0.59      0.66     16418\n",
      "             macro avg       0.56      0.33      0.40     16418\n",
      "          weighted avg       0.72      0.59      0.62     16418\n",
      "           samples avg       0.66      0.52      0.54     16418\n",
      "\n"
     ]
    },
    {
     "name": "stderr",
     "output_type": "stream",
     "text": [
      "/home/sumit/.local/lib/python3.8/site-packages/sklearn/metrics/_classification.py:1272: UndefinedMetricWarning: Precision and F-score are ill-defined and being set to 0.0 in samples with no predicted labels. Use `zero_division` parameter to control this behavior.\n",
      "  _warn_prf(average, modifier, msg_start, len(result))\n",
      "/home/sumit/.local/lib/python3.8/site-packages/sklearn/metrics/_classification.py:1272: UndefinedMetricWarning: Recall and F-score are ill-defined and being set to 0.0 in samples with no true labels. Use `zero_division` parameter to control this behavior.\n",
      "  _warn_prf(average, modifier, msg_start, len(result))\n"
     ]
    }
   ],
   "source": [
    "# Predict and check performance\n",
    "y_pred = pipeline.predict(X_test)\n",
    "print(classification_report(y_test, y_pred, target_names=y.columns.values))    "
   ]
  },
  {
   "cell_type": "markdown",
   "metadata": {},
   "source": [
    "### 6. Improve your model\n",
    "Use grid search to find better parameters. "
   ]
  },
  {
   "cell_type": "code",
   "execution_count": 49,
   "metadata": {},
   "outputs": [
    {
     "data": {
      "text/plain": [
       "{'memory': None,\n",
       " 'steps': [('vectorizer',\n",
       "   CountVectorizer(analyzer='word', binary=False, decode_error='strict',\n",
       "                   dtype=<class 'numpy.int64'>, encoding='utf-8', input='content',\n",
       "                   lowercase=True, max_df=1.0, max_features=None, min_df=1,\n",
       "                   ngram_range=(1, 1), preprocessor=None, stop_words=None,\n",
       "                   strip_accents=None, token_pattern='(?u)\\\\b\\\\w\\\\w+\\\\b',\n",
       "                   tokenizer=<function tokenize at 0x7f11df05bc10>,\n",
       "                   vocabulary=None)),\n",
       "  ('tfidf',\n",
       "   TfidfTransformer(norm='l2', smooth_idf=True, sublinear_tf=False, use_idf=True)),\n",
       "  ('classifier',\n",
       "   OneVsRestClassifier(estimator=AdaBoostClassifier(algorithm='SAMME.R',\n",
       "                                                    base_estimator=None,\n",
       "                                                    learning_rate=1.0,\n",
       "                                                    n_estimators=50,\n",
       "                                                    random_state=7),\n",
       "                       n_jobs=None))],\n",
       " 'verbose': False,\n",
       " 'vectorizer': CountVectorizer(analyzer='word', binary=False, decode_error='strict',\n",
       "                 dtype=<class 'numpy.int64'>, encoding='utf-8', input='content',\n",
       "                 lowercase=True, max_df=1.0, max_features=None, min_df=1,\n",
       "                 ngram_range=(1, 1), preprocessor=None, stop_words=None,\n",
       "                 strip_accents=None, token_pattern='(?u)\\\\b\\\\w\\\\w+\\\\b',\n",
       "                 tokenizer=<function tokenize at 0x7f11df05bc10>,\n",
       "                 vocabulary=None),\n",
       " 'tfidf': TfidfTransformer(norm='l2', smooth_idf=True, sublinear_tf=False, use_idf=True),\n",
       " 'classifier': OneVsRestClassifier(estimator=AdaBoostClassifier(algorithm='SAMME.R',\n",
       "                                                  base_estimator=None,\n",
       "                                                  learning_rate=1.0,\n",
       "                                                  n_estimators=50,\n",
       "                                                  random_state=7),\n",
       "                     n_jobs=None),\n",
       " 'vectorizer__analyzer': 'word',\n",
       " 'vectorizer__binary': False,\n",
       " 'vectorizer__decode_error': 'strict',\n",
       " 'vectorizer__dtype': numpy.int64,\n",
       " 'vectorizer__encoding': 'utf-8',\n",
       " 'vectorizer__input': 'content',\n",
       " 'vectorizer__lowercase': True,\n",
       " 'vectorizer__max_df': 1.0,\n",
       " 'vectorizer__max_features': None,\n",
       " 'vectorizer__min_df': 1,\n",
       " 'vectorizer__ngram_range': (1, 1),\n",
       " 'vectorizer__preprocessor': None,\n",
       " 'vectorizer__stop_words': None,\n",
       " 'vectorizer__strip_accents': None,\n",
       " 'vectorizer__token_pattern': '(?u)\\\\b\\\\w\\\\w+\\\\b',\n",
       " 'vectorizer__tokenizer': <function __main__.tokenize(text)>,\n",
       " 'vectorizer__vocabulary': None,\n",
       " 'tfidf__norm': 'l2',\n",
       " 'tfidf__smooth_idf': True,\n",
       " 'tfidf__sublinear_tf': False,\n",
       " 'tfidf__use_idf': True,\n",
       " 'classifier__estimator__algorithm': 'SAMME.R',\n",
       " 'classifier__estimator__base_estimator': None,\n",
       " 'classifier__estimator__learning_rate': 1.0,\n",
       " 'classifier__estimator__n_estimators': 50,\n",
       " 'classifier__estimator__random_state': 7,\n",
       " 'classifier__estimator': AdaBoostClassifier(algorithm='SAMME.R', base_estimator=None, learning_rate=1.0,\n",
       "                    n_estimators=50, random_state=7),\n",
       " 'classifier__n_jobs': None}"
      ]
     },
     "execution_count": 49,
     "metadata": {},
     "output_type": "execute_result"
    }
   ],
   "source": [
    "pipeline.get_params()"
   ]
  },
  {
   "cell_type": "code",
   "execution_count": 50,
   "metadata": {},
   "outputs": [
    {
     "name": "stdout",
     "output_type": "stream",
     "text": [
      "Fitting 5 folds for each of 4 candidates, totalling 20 fits\n"
     ]
    },
    {
     "name": "stderr",
     "output_type": "stream",
     "text": [
      "[Parallel(n_jobs=1)]: Using backend SequentialBackend with 1 concurrent workers.\n",
      "[Parallel(n_jobs=1)]: Done  20 out of  20 | elapsed: 29.9min finished\n"
     ]
    },
    {
     "data": {
      "text/plain": [
       "GridSearchCV(cv=None, error_score=nan,\n",
       "             estimator=Pipeline(memory=None,\n",
       "                                steps=[('vectorizer',\n",
       "                                        CountVectorizer(analyzer='word',\n",
       "                                                        binary=False,\n",
       "                                                        decode_error='strict',\n",
       "                                                        dtype=<class 'numpy.int64'>,\n",
       "                                                        encoding='utf-8',\n",
       "                                                        input='content',\n",
       "                                                        lowercase=True,\n",
       "                                                        max_df=1.0,\n",
       "                                                        max_features=None,\n",
       "                                                        min_df=1,\n",
       "                                                        ngram_range=(1, 1),\n",
       "                                                        preprocessor=None,\n",
       "                                                        stop_words=None,\n",
       "                                                        strip_accents=None,\n",
       "                                                        token_patt...\n",
       "                                        OneVsRestClassifier(estimator=AdaBoostClassifier(algorithm='SAMME.R',\n",
       "                                                                                         base_estimator=None,\n",
       "                                                                                         learning_rate=1.0,\n",
       "                                                                                         n_estimators=50,\n",
       "                                                                                         random_state=7),\n",
       "                                                            n_jobs=None))],\n",
       "                                verbose=False),\n",
       "             iid='deprecated', n_jobs=None,\n",
       "             param_grid={'classifier__estimator__n_estimators': [30, 50],\n",
       "                         'tfidf__norm': ['l1', 'l2']},\n",
       "             pre_dispatch='2*n_jobs', refit=True, return_train_score=False,\n",
       "             scoring=None, verbose=True)"
      ]
     },
     "execution_count": 50,
     "metadata": {},
     "output_type": "execute_result"
    }
   ],
   "source": [
    "# Perform Grid Search for tuned parameters\n",
    "params = {\n",
    "          'tfidf__norm':['l1','l2'],\n",
    "          'classifier__estimator__n_estimators': [30,50]\n",
    "         }\n",
    "\n",
    "cv = GridSearchCV(pipeline, param_grid= params, verbose=True)\n",
    "cv.fit(X_train, y_train)"
   ]
  },
  {
   "cell_type": "code",
   "execution_count": 51,
   "metadata": {},
   "outputs": [
    {
     "data": {
      "text/plain": [
       "{'classifier__estimator__n_estimators': 50, 'tfidf__norm': 'l2'}"
      ]
     },
     "execution_count": 51,
     "metadata": {},
     "output_type": "execute_result"
    }
   ],
   "source": [
    "# Checkout best parameters\n",
    "cv.best_params_"
   ]
  },
  {
   "cell_type": "markdown",
   "metadata": {},
   "source": [
    "### 7. Test your model\n",
    "Show the accuracy, precision, and recall of the tuned model.  \n",
    "\n",
    "Since this project focuses on code quality, process, and  pipelines, there is no minimum performance metric needed to pass. However, make sure to fine tune your models for accuracy, precision and recall to make your project stand out - especially for your portfolio!"
   ]
  },
  {
   "cell_type": "code",
   "execution_count": 56,
   "metadata": {},
   "outputs": [],
   "source": [
    "# Create pipeline again with tuned parameters\n",
    "pipeline = Pipeline([\n",
    "    ('vectorizer', CountVectorizer(tokenizer=tokenize)),\n",
    "    ('tfidf', TfidfTransformer(norm='l2')),\n",
    "    ('classifier',OneVsRestClassifier(AdaBoostClassifier(random_state=7, n_estimators=50)))    \n",
    "])\n",
    "\n",
    "pipeline.fit(X_train, y_train)\n",
    "y_pred = pipeline.predict(X_test)  "
   ]
  },
  {
   "cell_type": "code",
   "execution_count": 57,
   "metadata": {},
   "outputs": [
    {
     "name": "stdout",
     "output_type": "stream",
     "text": [
      "                        precision    recall  f1-score   support\n",
      "\n",
      "               related       0.80      0.97      0.88      3984\n",
      "               request       0.73      0.51      0.60       895\n",
      "                 offer       0.00      0.00      0.00        24\n",
      "           aid_related       0.75      0.61      0.68      2163\n",
      "          medical_help       0.60      0.25      0.35       398\n",
      "      medical_products       0.66      0.33      0.44       259\n",
      "     search_and_rescue       0.62      0.19      0.29       136\n",
      "              security       0.29      0.05      0.09        98\n",
      "              military       0.63      0.36      0.46       184\n",
      "                 water       0.73      0.66      0.69       322\n",
      "                  food       0.79      0.65      0.71       581\n",
      "               shelter       0.79      0.52      0.63       456\n",
      "              clothing       0.66      0.42      0.51        84\n",
      "                 money       0.54      0.29      0.38       131\n",
      "        missing_people       0.25      0.03      0.06        62\n",
      "              refugees       0.61      0.23      0.33       176\n",
      "                 death       0.65      0.47      0.55       226\n",
      "             other_aid       0.54      0.15      0.24       685\n",
      "infrastructure_related       0.32      0.07      0.11       335\n",
      "             transport       0.65      0.20      0.31       236\n",
      "             buildings       0.62      0.40      0.48       259\n",
      "           electricity       0.58      0.29      0.39       110\n",
      "                 tools       0.20      0.03      0.06        29\n",
      "             hospitals       0.17      0.04      0.06        56\n",
      "                 shops       0.20      0.04      0.07        24\n",
      "           aid_centers       0.28      0.11      0.15        47\n",
      "  other_infrastructure       0.27      0.06      0.10       231\n",
      "       weather_related       0.86      0.67      0.75      1426\n",
      "                floods       0.88      0.58      0.70       429\n",
      "                 storm       0.77      0.50      0.61       466\n",
      "                  fire       0.73      0.15      0.25        54\n",
      "            earthquake       0.88      0.78      0.83       486\n",
      "                  cold       0.62      0.44      0.51        91\n",
      "         other_weather       0.42      0.15      0.22       268\n",
      "         direct_report       0.67      0.40      0.50      1007\n",
      "\n",
      "             micro avg       0.76      0.59      0.66     16418\n",
      "             macro avg       0.56      0.33      0.40     16418\n",
      "          weighted avg       0.72      0.59      0.62     16418\n",
      "           samples avg       0.66      0.52      0.54     16418\n",
      "\n"
     ]
    },
    {
     "name": "stderr",
     "output_type": "stream",
     "text": [
      "/home/sumit/.local/lib/python3.8/site-packages/sklearn/metrics/_classification.py:1272: UndefinedMetricWarning: Precision and F-score are ill-defined and being set to 0.0 in samples with no predicted labels. Use `zero_division` parameter to control this behavior.\n",
      "  _warn_prf(average, modifier, msg_start, len(result))\n",
      "/home/sumit/.local/lib/python3.8/site-packages/sklearn/metrics/_classification.py:1272: UndefinedMetricWarning: Recall and F-score are ill-defined and being set to 0.0 in samples with no true labels. Use `zero_division` parameter to control this behavior.\n",
      "  _warn_prf(average, modifier, msg_start, len(result))\n"
     ]
    }
   ],
   "source": [
    "print(classification_report(y_test, y_pred, target_names=y.columns.values)) "
   ]
  },
  {
   "cell_type": "markdown",
   "metadata": {},
   "source": [
    "### 8. Try improving your model further. Here are a few ideas:\n",
    "* try other machine learning algorithms\n",
    "* add other features besides the TF-IDF"
   ]
  },
  {
   "cell_type": "code",
   "execution_count": 67,
   "metadata": {},
   "outputs": [
    {
     "data": {
      "text/html": [
       "<div>\n",
       "<style scoped>\n",
       "    .dataframe tbody tr th:only-of-type {\n",
       "        vertical-align: middle;\n",
       "    }\n",
       "\n",
       "    .dataframe tbody tr th {\n",
       "        vertical-align: top;\n",
       "    }\n",
       "\n",
       "    .dataframe thead th {\n",
       "        text-align: right;\n",
       "    }\n",
       "</style>\n",
       "<table border=\"1\" class=\"dataframe\">\n",
       "  <thead>\n",
       "    <tr style=\"text-align: right;\">\n",
       "      <th></th>\n",
       "      <th>related</th>\n",
       "      <th>request</th>\n",
       "      <th>offer</th>\n",
       "      <th>aid_related</th>\n",
       "      <th>medical_help</th>\n",
       "      <th>medical_products</th>\n",
       "      <th>search_and_rescue</th>\n",
       "      <th>security</th>\n",
       "      <th>military</th>\n",
       "      <th>water</th>\n",
       "      <th>...</th>\n",
       "      <th>aid_centers</th>\n",
       "      <th>other_infrastructure</th>\n",
       "      <th>weather_related</th>\n",
       "      <th>floods</th>\n",
       "      <th>storm</th>\n",
       "      <th>fire</th>\n",
       "      <th>earthquake</th>\n",
       "      <th>cold</th>\n",
       "      <th>other_weather</th>\n",
       "      <th>direct_report</th>\n",
       "    </tr>\n",
       "  </thead>\n",
       "  <tbody>\n",
       "    <tr>\n",
       "      <th>0</th>\n",
       "      <td>1</td>\n",
       "      <td>0</td>\n",
       "      <td>0</td>\n",
       "      <td>1</td>\n",
       "      <td>0</td>\n",
       "      <td>1</td>\n",
       "      <td>0</td>\n",
       "      <td>0</td>\n",
       "      <td>0</td>\n",
       "      <td>1</td>\n",
       "      <td>...</td>\n",
       "      <td>0</td>\n",
       "      <td>0</td>\n",
       "      <td>0</td>\n",
       "      <td>0</td>\n",
       "      <td>0</td>\n",
       "      <td>0</td>\n",
       "      <td>0</td>\n",
       "      <td>0</td>\n",
       "      <td>0</td>\n",
       "      <td>0</td>\n",
       "    </tr>\n",
       "  </tbody>\n",
       "</table>\n",
       "<p>1 rows × 35 columns</p>\n",
       "</div>"
      ],
      "text/plain": [
       "   related  request  offer  aid_related  medical_help  medical_products  \\\n",
       "0        1        0      0            1             0                 1   \n",
       "\n",
       "   search_and_rescue  security  military  water  ...  aid_centers  \\\n",
       "0                  0         0         0      1  ...            0   \n",
       "\n",
       "   other_infrastructure  weather_related  floods  storm  fire  earthquake  \\\n",
       "0                     0                0       0      0     0           0   \n",
       "\n",
       "   cold  other_weather  direct_report  \n",
       "0     0              0              0  \n",
       "\n",
       "[1 rows x 35 columns]"
      ]
     },
     "execution_count": 67,
     "metadata": {},
     "output_type": "execute_result"
    }
   ],
   "source": [
    "# Test model\n",
    "pd.DataFrame(pipeline.predict(['I need water and medicine']), columns=y.columns)"
   ]
  },
  {
   "cell_type": "markdown",
   "metadata": {},
   "source": [
    "### 9. Export your model as a pickle file"
   ]
  },
  {
   "cell_type": "code",
   "execution_count": 60,
   "metadata": {},
   "outputs": [],
   "source": [
    "import pickle\n",
    "pickle_file = open('../models/classifier.pkl', 'wb')\n",
    "pickle.dump(pipeline, pickle_file)\n",
    "pickle_file.close()"
   ]
  },
  {
   "cell_type": "markdown",
   "metadata": {},
   "source": [
    "### 10. Use this notebook to complete `train.py`\n",
    "Use the template file attached in the Resources folder to write a script that runs the steps above to create a database and export a model based on a new dataset specified by the user."
   ]
  },
  {
   "cell_type": "code",
   "execution_count": null,
   "metadata": {},
   "outputs": [],
   "source": []
  }
 ],
 "metadata": {
  "kernelspec": {
   "display_name": "Python 3",
   "language": "python",
   "name": "python3"
  },
  "language_info": {
   "codemirror_mode": {
    "name": "ipython",
    "version": 3
   },
   "file_extension": ".py",
   "mimetype": "text/x-python",
   "name": "python",
   "nbconvert_exporter": "python",
   "pygments_lexer": "ipython3",
   "version": "3.8.2"
  }
 },
 "nbformat": 4,
 "nbformat_minor": 4
}
